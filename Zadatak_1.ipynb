{
 "cells": [
  {
   "cell_type": "markdown",
   "id": "b0bf85cb-1fa3-4d40-95fb-23f4e5a08da9",
   "metadata": {},
   "source": [
    "# Zadatak 1"
   ]
  },
  {
   "cell_type": "markdown",
   "id": "270b070d-2978-48cd-a87c-f6bbe5505ac1",
   "metadata": {
    "tags": []
   },
   "source": [
    "## Treblecross"
   ]
  },
  {
   "cell_type": "markdown",
   "id": "3fe89547-5f74-443b-8518-84853c006b46",
   "metadata": {},
   "source": [
    "### Uvod"
   ]
  },
  {
   "cell_type": "markdown",
   "id": "9b089a08-c304-4ee0-9e50-b7e645fd58b6",
   "metadata": {},
   "source": [
    "Pravila igre:\n",
    "    Treblecross je degenerirana verzija križić kružića. Igra se igra na jednodimenzionalnoj ploči, a oba igrača igraju koristeći isti znak (X ili crni čip). Svaki igrač u       svojem potezu bira čeliju koja je prazna. Igra se pobjeđuje ako igrač u svojem potezu napravi liniju od tri komada (X ili crni čipovi) u nizu. \n",
    "    \n",
    "    \n",
    "Igra počinje sa 1*n praznin čelija. \n",
    "\n",
    "Također 2 su moguća završna stanja, a to su pobjednik ili gubitnik te ne postoji opcija izjednačeno.\n"
   ]
  },
  {
   "cell_type": "markdown",
   "id": "87e579d9-d861-42a8-a974-e918767c8717",
   "metadata": {},
   "source": [
    "U nastavku se nalazi kod koji omogućuje igranja treblecross-a protiv AI. \n",
    "\n",
    "Prije popočetka igranja možemo birat tko radi prvi potez (AI ili čovijek), te onda onaj tko igra prvi bira i broj čelija.\n",
    "Ispod koda ima i opis implementacije tako da ne odamo tajnu pobjede u igri.\n"
   ]
  },
  {
   "cell_type": "markdown",
   "id": "b8a9c015-0759-419a-b264-71c0b451ba48",
   "metadata": {},
   "source": [
    "### Igra"
   ]
  },
  {
   "cell_type": "code",
   "execution_count": 4,
   "id": "edf6f94e-bb60-42ab-9573-a461e0c464f2",
   "metadata": {
    "tags": []
   },
   "outputs": [
    {
     "name": "stdin",
     "output_type": "stream",
     "text": [
      "Odaberite tko prvi igra 'ai' ili 'covjek':  covjek\n",
      "Odaberite željeni broj ćelija (minimalno 6):  23\n"
     ]
    },
    {
     "name": "stdout",
     "output_type": "stream",
     "text": [
      "Treblecross 23! Sretno\n",
      " |  |  |  |  |  |  |  |  |  |  |  |  |  |  |  |  |  |  |  |  |  |  | \n"
     ]
    },
    {
     "name": "stdin",
     "output_type": "stream",
     "text": [
      "Unesite svoj potez (1-23):  3\n"
     ]
    },
    {
     "name": "stdout",
     "output_type": "stream",
     "text": [
      " |  | X|  |  |  |  |  |  |  |  |  |  |  |  |  |  |  |  |  |  |  |  | \n",
      "AI-jev potez:\n",
      " |  | X|  |  | X|  |  |  |  |  |  |  |  |  |  |  |  |  |  |  |  |  | \n"
     ]
    },
    {
     "name": "stdin",
     "output_type": "stream",
     "text": [
      "Unesite svoj potez (1-23):  9\n"
     ]
    },
    {
     "name": "stdout",
     "output_type": "stream",
     "text": [
      " |  | X|  |  | X|  |  | X|  |  |  |  |  |  |  |  |  |  |  |  |  |  | \n",
      "AI-jev potez:\n",
      " |  | X|  |  | X|  |  | X|  |  | X|  |  |  |  |  |  |  |  |  |  |  | \n"
     ]
    },
    {
     "name": "stdin",
     "output_type": "stream",
     "text": [
      "Unesite svoj potez (1-23):  14\n"
     ]
    },
    {
     "name": "stdout",
     "output_type": "stream",
     "text": [
      " |  | X|  |  | X|  |  | X|  |  | X|  | X|  |  |  |  |  |  |  |  |  | \n",
      "AI-jev potez:\n",
      " |  | X|  |  | X|  |  | X|  |  | X| X| X|  |  |  |  |  |  |  |  |  | \n",
      "AI je pobijedio! Osmislite bolju taktiku sljedeći put.\n"
     ]
    }
   ],
   "source": [
    "import random\n",
    "import math\n",
    "\n",
    "def ispisi_polja(polja):\n",
    "    for celija in polja:\n",
    "        print(celija, end=\"| \")\n",
    "    print()\n",
    "\n",
    "\n",
    "def igrac(polja, velicina):\n",
    "    while True:\n",
    "        pozicija= int(input(f\"Unesite svoj potez (1-{velicina}): \"))\n",
    "        if 1 <= pozicija <= velicina and polja[pozicija - 1] ==' ':\n",
    "            return pozicija - 1\n",
    "        print(\"Neprihvaćen potez. Pokušajte ponovno.\")\n",
    "\n",
    "        \n",
    "def AI_prvipotez(polja, velicina):\n",
    "    if velicina%2 != 0:  \n",
    "        sredina =velicina // 2\n",
    "        AI=sredina\n",
    "        polja[AI]= 'X'\n",
    "        ispisi_polja(polja)\n",
    "        \n",
    "\n",
    "def AI_pozet(polja, unos, velicina, prvo_pitanje):\n",
    "    for pozicija in range(len(polja)):\n",
    "        if polja[pozicija] == ' ':\n",
    "            pomocna_v = polja[:]\n",
    "            pomocna_v[pozicija] = 'X'\n",
    "            if provjera(pomocna_v, 'X'):\n",
    "                return pozicija\n",
    "            \n",
    "    if prvo_pitanje == 'ai':\n",
    "        if unos is not None:\n",
    "            protivnik = velicina - unos - 1\n",
    "        if polja[protivnik] == ' ':\n",
    "            return protivnik\n",
    "        \n",
    "    for pozicija in range(len(polja)):\n",
    "        if polja[pozicija] == ' ' and pozicija != unos:\n",
    "            if (pozicija == unos + 3 or pozicija == unos - 3):\n",
    "                return pozicija\n",
    "    for pozicija in [4, 3]:\n",
    "        if polja[pozicija] == ' ':\n",
    "            return pozicija\n",
    "        \n",
    "\n",
    "def provjera(polja, trenutni):\n",
    "    for i in range(len(polja) - 2):\n",
    "        if polja[i]==polja[i+1]==polja[i+ 2]==trenutni:\n",
    "            return True\n",
    "    return False\n",
    "\n",
    "\n",
    "\n",
    "def main():\n",
    "    \n",
    "    velicina= 0\n",
    "    prvo_pitanje= input(\"Odaberite tko prvi igra 'ai' ili 'covjek': \")\n",
    "    \n",
    "    if prvo_pitanje== 'ai':\n",
    "        velicina= random.choice([9, 11, 13, 15])\n",
    "        \n",
    "    else:\n",
    "        velicina= 0\n",
    "        while velicina < 6:\n",
    "            velicina= int(input(\"Odaberite željeni broj ćelija (minimalno 6): \"))\n",
    "            if velicina < 6:\n",
    "                print(\"Broj ćelija ne može biti manji od 6.\")\n",
    "\n",
    "    polja= [' '] * velicina\n",
    "    print(f\"Treblecross {velicina}! Sretno\")\n",
    "    ispisi_polja(polja)\n",
    "\n",
    "    if prvo_pitanje== 'ai':\n",
    "        AI_prvipotez(polja, velicina)\n",
    "\n",
    "    while True:\n",
    "        unos= igrac(polja, velicina)\n",
    "        polja[unos]= 'X'\n",
    "        ispisi_polja(polja)\n",
    "        if provjera(polja, 'X'):\n",
    "            print(\"Čestitam! ***Pobijedili ste!***\")\n",
    "            break\n",
    "        \n",
    "\n",
    "        AI= AI_pozet(polja, unos, velicina, prvo_pitanje)\n",
    "        polja[AI]= 'X'\n",
    "        print(\"AI-jev potez:\")\n",
    "        \n",
    "        ispisi_polja(polja)\n",
    "        \n",
    "        if provjera(polja, 'X'):\n",
    "            print(\"AI je pobijedio! Osmislite bolju taktiku sljedeći put.\")\n",
    "            break\n",
    "        \n",
    "\n",
    "\n",
    "if __name__== '__main__':\n",
    "    main()\n"
   ]
  },
  {
   "cell_type": "markdown",
   "id": "f2216186-3f16-4db3-be35-5ce4eed80cf2",
   "metadata": {},
   "source": [
    "### Implementacija objasnjenje"
   ]
  },
  {
   "cell_type": "markdown",
   "id": "5946edc4-5cce-4034-8295-a7726c7b826e",
   "metadata": {},
   "source": [
    "U nastavku je objasnjenje koda.\n",
    "\n",
    "Prvo kad pokrenemo igricu moramo odabrati tko igra prvi, AI ili covjek.  Nakon toga igrač koji prvi igra bira i broj ćelija.\n",
    "\n",
    "Nakon toga se stvara zapravo  varijabla polje s navedenim brojem ćelija koja su prazna. Prije nego počmemo birat ćelije dobijemo vizualizaciju polja za to koristimo funkciju ispis_polja. Ispis_polja ćemo koristit za ispis polja i postavljenih X u ćelije kroz ostatak igre.\n",
    "\n",
    "Ako smo odabrali da AI radi prvi potez on je i odabrao broj ćelija koji sam ograničio da su od 9 do 15 te da moraju biti neprani broj jer će to osigurati pobjedu AI kasnije. Pošto AI bira prvi broj ćelija on će odabrati ono što mu donosi 100% pobjedu. Funckija AI_prvipotez postavlja AI-ov X u sredinu.\n",
    "\n",
    "Nakon toga imamo kod koji se izvršava jednako i ako igrač igra prvi ili drugi. U varijablu unos spremamu sta funkcija igrac vrati kao vrijednost. Funkcija igrac traži od igrača da unese broj ćelije koju želi postaviti X. Zatim provjerava jeli broj koji je unesen premali tj manji od 1 ili prevelik tj. jeli veći od zadane veličine polja i provjerava jeli ćelija prazna. Ako su svi uvjeti ispunjeni On vraca mjesto ćeliju u koju ce postaviti X. (Vrijedi napomenuti da kad biramo broj ćelija npr. 6 on će gledati od 0 do 5, pa se zato na mjestima nalaze \"pozicija - 1\")\n",
    "\n",
    "Nakon unosa se ispise izgled polja i poziva se funkcija koja provjerava jeli u polju imamo tri X-a zaredom. Funkcija provjera provjerava je li trenutni igrač pobijedio. Prolazi kroz sva polja i provjerava postoji li uzastopna 3 polja koja pripadaju istom igraču.\n",
    "\n",
    "Nakon toga AI igra te se poziva funkcija AI_potez. Ova funkcija je glavna logika za određivanje poteza AI-a. Provjerava različite uvjete kako bi AI odabrao optimalan potez. U početku provjerava mogu li trenutnim potezom pobijediti, zatim sprječava igrača da pobijedi, pa provjerava različite uvjete kako bi odlučio optimalno polje za potez. Imamo dvije strategije koje koristi ovisno tko je prvi igrao.\n",
    "- U slučaju da je AI prvi igrao staregija koja mu donosi 100% pobjedu je ta da nakon svog poteza kopira/zrcali potez protivnika (npr. ako postooji 7 ćelija korsnika postavi na 2. mjesto AI je postaviti na 5 jer 7-2=5 i tak je zrcalio potez.)\n",
    "- U slučaju da igrac igra prvi, AI ima strategiju da ne postavlja svoj X 2 polja od bilo kojeg X tako da protivniku onemogući da preda tri X zaredom. Ako je to naravno moguće, tj. ako je takva ćelija prazna. Ako prijašnji uvjet nije ispunjen postavi će svoj X na 3 ili 4 polje jer tada više ne postoji mogućnost da ne namjestimo 2 X za protivnika. \n",
    "\n",
    "I tako se igra sve dok se tri X ne nađu jedan pokraj drugoga u nizu i igra se prekida.\n",
    "\n",
    "\n",
    "\n"
   ]
  },
  {
   "cell_type": "markdown",
   "id": "21ed5174-b58d-4596-a3f2-517ccf43acc7",
   "metadata": {
    "tags": []
   },
   "source": [
    "Izjavljujem da je rješenje zadatka izvorni rezultat mojeg rada te da se u izradi istoga nisam koristio drugim izvorima osim onima koji su u njemu navedeni. Za izradu rada su korištene etički prikladne i prihvatljive metode i tehnike rada."
   ]
  },
  {
   "cell_type": "code",
   "execution_count": null,
   "id": "ea045002-b257-4f30-ae64-02dea74a6bf7",
   "metadata": {},
   "outputs": [],
   "source": []
  }
 ],
 "metadata": {
  "kernelspec": {
   "display_name": "Python 3 (ipykernel)",
   "language": "python",
   "name": "python3"
  },
  "language_info": {
   "codemirror_mode": {
    "name": "ipython",
    "version": 3
   },
   "file_extension": ".py",
   "mimetype": "text/x-python",
   "name": "python",
   "nbconvert_exporter": "python",
   "pygments_lexer": "ipython3",
   "version": "3.11.5"
  }
 },
 "nbformat": 4,
 "nbformat_minor": 5
}
